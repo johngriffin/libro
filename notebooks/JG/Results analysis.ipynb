{
 "cells": [
  {
   "cell_type": "code",
   "execution_count": null,
   "metadata": {},
   "outputs": [
    {
     "ename": "FileNotFoundError",
     "evalue": "[Errno 2] No such file or directory: '../../data/Defects4J/all_d4j_crashes.txt'",
     "output_type": "error",
     "traceback": [
      "\u001b[0;31m---------------------------------------------------------------------------\u001b[0m",
      "\u001b[0;31mFileNotFoundError\u001b[0m                         Traceback (most recent call last)",
      "\u001b[1;32m/Users/john/tempdev/johngriffin/libro/notebooks/JG Analysis.ipynb Cell 1\u001b[0m in \u001b[0;36m6\n\u001b[1;32m      <a href='vscode-notebook-cell:/Users/john/tempdev/johngriffin/libro/notebooks/JG%20Analysis.ipynb#W1sZmlsZQ%3D%3D?line=2'>3</a>\u001b[0m \u001b[39mimport\u001b[39;00m \u001b[39mjson\u001b[39;00m\n\u001b[1;32m      <a href='vscode-notebook-cell:/Users/john/tempdev/johngriffin/libro/notebooks/JG%20Analysis.ipynb#W1sZmlsZQ%3D%3D?line=3'>4</a>\u001b[0m \u001b[39mimport\u001b[39;00m \u001b[39mpandas\u001b[39;00m\n\u001b[0;32m----> <a href='vscode-notebook-cell:/Users/john/tempdev/johngriffin/libro/notebooks/JG%20Analysis.ipynb#W1sZmlsZQ%3D%3D?line=5'>6</a>\u001b[0m \u001b[39mwith\u001b[39;00m \u001b[39mopen\u001b[39;49m(\u001b[39m'\u001b[39;49m\u001b[39m../../data/Defects4J/all_d4j_crashes.txt\u001b[39;49m\u001b[39m'\u001b[39;49m) \u001b[39mas\u001b[39;00m f:\n\u001b[1;32m      <a href='vscode-notebook-cell:/Users/john/tempdev/johngriffin/libro/notebooks/JG%20Analysis.ipynb#W1sZmlsZQ%3D%3D?line=6'>7</a>\u001b[0m     jcrashpack_bugs \u001b[39m=\u001b[39m [e\u001b[39m.\u001b[39mstrip()\u001b[39m.\u001b[39mreplace(\u001b[39m'\u001b[39m\u001b[39m-\u001b[39m\u001b[39m'\u001b[39m, \u001b[39m'\u001b[39m\u001b[39m_\u001b[39m\u001b[39m'\u001b[39m) \u001b[39mfor\u001b[39;00m e \u001b[39min\u001b[39;00m f\u001b[39m.\u001b[39mreadlines()]\n\u001b[1;32m      <a href='vscode-notebook-cell:/Users/john/tempdev/johngriffin/libro/notebooks/JG%20Analysis.ipynb#W1sZmlsZQ%3D%3D?line=8'>9</a>\u001b[0m \u001b[39mwith\u001b[39;00m \u001b[39mopen\u001b[39m(\u001b[39m'\u001b[39m\u001b[39m../../data/Defects4J/invalid_bug_reports.txt\u001b[39m\u001b[39m'\u001b[39m) \u001b[39mas\u001b[39;00m f:\n",
      "\u001b[0;31mFileNotFoundError\u001b[0m: [Errno 2] No such file or directory: '../../data/Defects4J/all_d4j_crashes.txt'"
     ]
    }
   ],
   "source": [
    "import sys\n",
    "sys.path.append(\"../../scripts/\")\n",
    "import json\n",
    "import pandas\n",
    "\n",
    "with open('../../data/Defects4J/all_d4j_crashes.txt') as f:\n",
    "    jcrashpack_bugs = [e.strip().replace('-', '_') for e in f.readlines()]\n",
    "\n",
    "with open('../../data/Defects4J/invalid_bug_reports.txt') as f:\n",
    "    invalid_bugs = [e.strip().replace('-', '_') for e in f.readlines()]\n",
    "\n",
    "def evaluate(raw_result, only_crash=False):\n",
    "    rows = []\n",
    "    \n",
    "    for bug_id, test_exec_results in raw_result.items():\n",
    "        if bug_id in invalid_bugs:\n",
    "            continue\n",
    "        if only_crash and bug_id not in jcrashpack_bugs:\n",
    "            continue\n",
    "            \n",
    "        for i, (fname, res) in enumerate(test_exec_results.items()):\n",
    "            javalang_parse_error = False\n",
    "            is_compile_error = False\n",
    "            is_runtime_error = False\n",
    "            buggy_version_failing = False\n",
    "            fixed_version_failing = False\n",
    "            success = False\n",
    "\n",
    "            if isinstance(res, str):\n",
    "                javalang_parse_error = True \n",
    "            elif res['buggy']['compile_error'] or res['fixed']['compile_error']:\n",
    "                is_compile_error = True\n",
    "            elif res['buggy']['runtime_error'] or res['fixed']['runtime_error']:\n",
    "                is_runtime_error = True\n",
    "            else:\n",
    "                if res['buggy']['autogen_failed']:\n",
    "                    buggy_version_failing = True\n",
    "                if res['fixed']['autogen_failed']:\n",
    "                    fixed_version_failing = True\n",
    "                if buggy_version_failing and (not fixed_version_failing):\n",
    "                    success = True\n",
    "            \n",
    "            rows.append({\n",
    "                'project': bug_id.split('_')[0],\n",
    "                'bug_id': bug_id,\n",
    "                'test_no': i+1,\n",
    "                'javalang_parse_error': javalang_parse_error,\n",
    "                'is_compile_error': is_compile_error,\n",
    "                'is_runtime_error': is_runtime_error,\n",
    "                'buggy_version_failing': buggy_version_failing,\n",
    "                'fixed_version_failing': fixed_version_failing,\n",
    "                'fname': fname,\n",
    "                'success': success,\n",
    "            })\n",
    "    \n",
    "    return pandas.DataFrame(rows)"
   ]
  },
  {
   "cell_type": "code",
   "execution_count": null,
   "metadata": {},
   "outputs": [],
   "source": [
    "import json\n",
    "\n",
    "RESULT_PATH = '../../results/example2_n50.json'\n",
    "\n",
    "with open(RESULT_PATH) as f:\n",
    "    reproduction_df = evaluate(json.load(f))\n",
    "\n",
    "aggr_eval_df = reproduction_df.groupby('bug_id').sum().reset_index()\n",
    "aggr_eval_df['project'] = aggr_eval_df.bug_id.apply(lambda x: x.split('_')[0])\n",
    "succeeded_bugs = aggr_eval_df[aggr_eval_df.success > 0]\n",
    "\n",
    "\n",
    "#print all rows \n",
    "pandas.set_option('display.max_rows', None)\n",
    "\n",
    "#sort by success\n",
    "aggr_eval_df = aggr_eval_df.sort_values(by=['success'], ascending=False)\n",
    "\n",
    "aggr_eval_df\n",
    "\n",
    "\n",
    "\n"
   ]
  },
  {
   "cell_type": "code",
   "execution_count": null,
   "metadata": {},
   "outputs": [],
   "source": []
  }
 ],
 "metadata": {
  "kernelspec": {
   "display_name": "govinsight",
   "language": "python",
   "name": "python3"
  },
  "language_info": {
   "codemirror_mode": {
    "name": "ipython",
    "version": 3
   },
   "file_extension": ".py",
   "mimetype": "text/x-python",
   "name": "python",
   "nbconvert_exporter": "python",
   "pygments_lexer": "ipython3",
   "version": "3.10.6"
  },
  "orig_nbformat": 4
 },
 "nbformat": 4,
 "nbformat_minor": 2
}
